{
 "cells": [
  {
   "cell_type": "code",
   "execution_count": 2,
   "id": "c917b68f-62a2-4abb-907b-f71b1e201eb3",
   "metadata": {},
   "outputs": [
    {
     "name": "stdout",
     "output_type": "stream",
     "text": [
      "Quiz started!\n",
      "Q: What is the capital of France?\n",
      "1. Paris\n",
      "2. London\n",
      "3. Rome\n",
      "4. Berlin\n"
     ]
    },
    {
     "name": "stdin",
     "output_type": "stream",
     "text": [
      "Your choice (1-4):  1\n"
     ]
    },
    {
     "name": "stdout",
     "output_type": "stream",
     "text": [
      "Correct!\n",
      "Q: What is 2 + 2?\n",
      "1. 3\n",
      "2. 4\n",
      "3. 5\n",
      "4. 6\n"
     ]
    },
    {
     "name": "stdin",
     "output_type": "stream",
     "text": [
      "Your choice (1-4):  3\n"
     ]
    },
    {
     "name": "stdout",
     "output_type": "stream",
     "text": [
      "Wrong! The correct answer was: 4\n",
      "Q: Which planet is known as the Red Planet?\n",
      "1. Earth\n",
      "2. Venus\n",
      "3. Mars\n",
      "4. Jupiter\n"
     ]
    },
    {
     "name": "stdin",
     "output_type": "stream",
     "text": [
      "Your choice (1-4):  3\n"
     ]
    },
    {
     "name": "stdout",
     "output_type": "stream",
     "text": [
      "Correct!\n",
      "Your final score is 2/3\n"
     ]
    }
   ],
   "source": [
    "# main.py or in the same file for testing\n",
    "\n",
    "from brain import Quize\n",
    "\n",
    "# Create an object of Quize class\n",
    "quiz = Quize()\n",
    "\n",
    "# Add questions\n",
    "quiz.add_question(\"What is the capital of France?\", [\"Paris\", \"London\", \"Rome\", \"Berlin\"], \"Paris\")\n",
    "quiz.add_question(\"What is 2 + 2?\", [\"3\", \"4\", \"5\", \"6\"], \"4\")\n",
    "quiz.add_question(\"Which planet is known as the Red Planet?\", [\"Earth\", \"Venus\", \"Mars\", \"Jupiter\"], \"Mars\")\n",
    "\n",
    "# Start the quiz\n",
    "quiz.start_quiz()\n",
    "\n",
    "# Run through the questions\n",
    "while quiz.has_next_question():\n",
    "    q = quiz.get_next_question()\n",
    "    print(f\"Q: {q['question']}\")\n",
    "    for i, opt in enumerate(q['options']):\n",
    "        print(f\"{i + 1}. {opt}\")\n",
    "    user_input = int(input(\"Your choice (1-4): \"))\n",
    "    user_answer = q['options'][user_input - 1]\n",
    "    if quiz.check_answer(user_answer):\n",
    "        print(\"Correct!\")\n",
    "    else:\n",
    "        print(f\"Wrong! The correct answer was: {q['answer']}\")\n",
    "\n",
    "# Show results\n",
    "quiz.show_result()"
   ]
  },
  {
   "cell_type": "code",
   "execution_count": null,
   "id": "8a50854b-3f37-4e61-8dd4-fa72fe300f45",
   "metadata": {},
   "outputs": [],
   "source": []
  },
  {
   "cell_type": "code",
   "execution_count": null,
   "id": "2e2119f8-6d53-4a40-8580-92d099a32cff",
   "metadata": {},
   "outputs": [],
   "source": []
  }
 ],
 "metadata": {
  "kernelspec": {
   "display_name": "Python 3 (ipykernel)",
   "language": "python",
   "name": "python3"
  },
  "language_info": {
   "codemirror_mode": {
    "name": "ipython",
    "version": 3
   },
   "file_extension": ".py",
   "mimetype": "text/x-python",
   "name": "python",
   "nbconvert_exporter": "python",
   "pygments_lexer": "ipython3",
   "version": "3.13.1"
  }
 },
 "nbformat": 4,
 "nbformat_minor": 5
}
