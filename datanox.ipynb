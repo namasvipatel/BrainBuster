{
 "cells": [
  {
   "cell_type": "code",
   "execution_count": 8,
   "id": "c80f22a9-f9e0-435d-a8aa-73735cdde04c",
   "metadata": {},
   "outputs": [
    {
     "name": "stdin",
     "output_type": "stream",
     "text": [
      "Enter numbers separated by commas:  3,4,5,6,6,7\n"
     ]
    },
    {
     "name": "stdout",
     "output_type": "stream",
     "text": [
      "Mean: 5.166666666666667\n",
      "Median: 5.5\n",
      "Mode: 6.0\n",
      "Variance: 1.8055555555555554\n",
      "Standard Deviation: 1.3437096247164249\n",
      "Min Value: 3.0\n",
      "Max Value: 7.0\n",
      "Range: 4.0\n",
      "Sum: 31.0\n",
      "Normalized Data: [0.0, 0.25, 0.5, 0.75, 0.75, 1.0]\n"
     ]
    }
   ],
   "source": [
    "from datanox import datanox\n",
    "\n",
    "user_input = input(\"Enter numbers separated by commas: \")\n",
    "data = [float(x.strip()) for x in user_input.split(\",\")]\n",
    "\n",
    "d = datanox()\n",
    "\n",
    "# Mean\n",
    "print(\"Mean:\", d.mean(data))\n",
    "\n",
    "# Median\n",
    "print(\"Median:\", d.median(data))\n",
    "\n",
    "# Mode\n",
    "print(\"Mode:\", d.mode(data))\n",
    "\n",
    "# Variance\n",
    "print(\"Variance:\", d.variance(data))\n",
    "\n",
    "# Standard Deviation\n",
    "print(\"Standard Deviation:\", d.std_deviation(data))\n",
    "\n",
    "# Minimum Value\n",
    "print(\"Min Value:\", d.min_value(data))\n",
    "\n",
    "# Maximum Value\n",
    "print(\"Max Value:\", d.max_value(data))\n",
    "\n",
    "# Range\n",
    "print(\"Range:\", d.range_value(data))\n",
    "\n",
    "# Sum of Values\n",
    "print(\"Sum:\", d.sum_values(data))\n",
    "\n",
    "# Normalized Data\n",
    "print(\"Normalized Data:\", d.normalize(data))\n"
   ]
  },
  {
   "cell_type": "code",
   "execution_count": null,
   "id": "e10d50f1-161f-405e-9085-2918a97cdfb5",
   "metadata": {},
   "outputs": [],
   "source": []
  }
 ],
 "metadata": {
  "kernelspec": {
   "display_name": "Python 3 (ipykernel)",
   "language": "python",
   "name": "python3"
  },
  "language_info": {
   "codemirror_mode": {
    "name": "ipython",
    "version": 3
   },
   "file_extension": ".py",
   "mimetype": "text/x-python",
   "name": "python",
   "nbconvert_exporter": "python",
   "pygments_lexer": "ipython3",
   "version": "3.13.1"
  }
 },
 "nbformat": 4,
 "nbformat_minor": 5
}
