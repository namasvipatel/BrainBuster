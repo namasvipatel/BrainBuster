{
 "cells": [
  {
   "cell_type": "code",
   "execution_count": null,
   "id": "05cd887e-d11f-40fa-b4c4-ea4c738fc632",
   "metadata": {},
   "outputs": [],
   "source": [
    "from calculus_module import calculus\n",
    "\n",
    "c = calculus()\n",
    "\n",
    "# User input for coefficient and exponent\n",
    "a = float(input(\"Enter coefficient (a) for ax^n: \"))\n",
    "n = int(input(\"Enter exponent (n) for ax^n: \"))\n",
    "\n",
    "# 1. Derivative using power rule\n",
    "print(\"Derivative of:\".format(a, n), c.derivative_power_rule(a, n))\n",
    "\n",
    "# 2. Integral using power rule\n",
    "print(\"Integral of:\".format(a, n), c.integral_power_rule(a, n))\n",
    "\n",
    "# 3. Limit at a point\n",
    "print(\"Limit of (x^2 - 1)/(x - 1) at x=1:\", c.limit_at_point(lambda x: (x**2 - 1)/(x - 1) if x != 1 else 2, 1))\n",
    "\n",
    "# 4. Definite Integral using rectangle method\n",
    "print(\"Definite integral of x^2 from 0 to 2:\", c.definite_integral_rectangle(lambda x: x**2, 0, 2))\n",
    "\n",
    "# 5. Slope of tangent\n",
    "x_val = float(input(\"Enter x value to find slope of tangent for f(x)=x^2: \"))\n",
    "print(\"Slope of tangent to x^2 at x =\", x_val, \"is\", c.slope_of_tangent(lambda x: x**2, x_val))\n",
    "\n",
    "# 6. Area under curve using trapezoidal rule\n",
    "print(\"Area under x^2 from 0 to 2:\", c.area_under_curve(lambda x: x**2, 0, 2))\n",
    "\n",
    "# 7. Left Riemann Sum\n",
    "x_sd = float(input(\"Enter x to find second derivative of x^3 at x: \"))\n",
    "print(\"Second derivative of x^3 at x =\", x_sd, \"is\", c.second_derivative(lambda x: x**3, x_sd))"
   ]
  },
  {
   "cell_type": "code",
   "execution_count": null,
   "id": "d3a27b3b-57eb-452e-a985-0b5472c3be8f",
   "metadata": {},
   "outputs": [],
   "source": []
  }
 ],
 "metadata": {
  "kernelspec": {
   "display_name": "Python 3 (ipykernel)",
   "language": "python",
   "name": "python3"
  },
  "language_info": {
   "codemirror_mode": {
    "name": "ipython",
    "version": 3
   },
   "file_extension": ".py",
   "mimetype": "text/x-python",
   "name": "python",
   "nbconvert_exporter": "python",
   "pygments_lexer": "ipython3",
   "version": "3.13.1"
  }
 },
 "nbformat": 4,
 "nbformat_minor": 5
}
