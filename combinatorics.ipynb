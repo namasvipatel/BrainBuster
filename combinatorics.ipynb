{
 "cells": [
  {
   "cell_type": "code",
   "execution_count": 8,
   "id": "09dd1280-32d7-451e-8894-ce8052af8d12",
   "metadata": {},
   "outputs": [
    {
     "name": "stdin",
     "output_type": "stream",
     "text": [
      "Enter a number for factorial:  4\n"
     ]
    },
    {
     "name": "stdout",
     "output_type": "stream",
     "text": [
      "Factorial of 4 is 24\n"
     ]
    }
   ],
   "source": [
    "#1factorial\n",
    "def factorial(n):\n",
    "    result = 1\n",
    "    for i in range(1, n + 1):\n",
    "        result *= i\n",
    "    return result\n",
    "\n",
    "n = int(input(\"Enter a number for factorial: \"))\n",
    "print(\"Factorial of\",n,\"is\",factorial(n))"
   ]
  },
  {
   "cell_type": "code",
   "execution_count": 7,
   "id": "3e941553-a2fe-4f9a-af91-d972c1b76692",
   "metadata": {},
   "outputs": [
    {
     "name": "stdin",
     "output_type": "stream",
     "text": [
      "Enter n for permutations:  4\n",
      "Enter r for permutations:  4\n"
     ]
    },
    {
     "name": "stdout",
     "output_type": "stream",
     "text": [
      "Permutations is 24.0\n"
     ]
    }
   ],
   "source": [
    "#2permutation()\n",
    "def permutations(n, r):\n",
    "    return factorial(n)/factorial(n - r)\n",
    "n = int(input(\"Enter n for permutations: \"))\n",
    "r = int(input(\"Enter r for permutations: \"))\n",
    "print(\"Permutations is\",permutations(n,r))"
   ]
  },
  {
   "cell_type": "code",
   "execution_count": 9,
   "id": "aff14259-fceb-4fbe-bf09-e7d55f96e107",
   "metadata": {},
   "outputs": [
    {
     "name": "stdin",
     "output_type": "stream",
     "text": [
      "Enter n for combinations:  5\n",
      "Enter r for combinations:  2\n"
     ]
    },
    {
     "name": "stdout",
     "output_type": "stream",
     "text": [
      "Combinations C(5, 2) is 10.0\n"
     ]
    }
   ],
   "source": [
    "#3combinations\n",
    "def combinations(n, r):\n",
    "    return factorial(n)/(factorial(r) * factorial(n - r))\n",
    "n = int(input(\"Enter n for combinations: \"))\n",
    "r = int(input(\"Enter r for combinations: \"))\n",
    "print(\"Combinations is\",combinations(n,r))"
   ]
  },
  {
   "cell_type": "code",
   "execution_count": 11,
   "id": "9fe107e6-26a6-447c-9124-65adad9cf5f6",
   "metadata": {},
   "outputs": [
    {
     "name": "stdin",
     "output_type": "stream",
     "text": [
      "Enter number of rows for Pascal's Triangle:  4\n"
     ]
    },
    {
     "name": "stdout",
     "output_type": "stream",
     "text": [
      "[1.0]\n",
      "[1.0, 1.0]\n",
      "[1.0, 2.0, 1.0]\n",
      "[1.0, 3.0, 3.0, 1.0]\n"
     ]
    }
   ],
   "source": [
    "#4pascal_triangle\n",
    "def pascal_triangle(rows):\n",
    "    for i in range(rows):\n",
    "        row = []\n",
    "        for j in range(i + 1):\n",
    "            row.append(combinations(i, j))\n",
    "        print(row)\n",
    "rows = int(input(\"Enter number of rows for Pascal's Triangle: \"))\n",
    "pascal_triangle(rows)"
   ]
  },
  {
   "cell_type": "code",
   "execution_count": 5,
   "id": "b42ab8b7-f5c4-4ef6-9c16-034880492c2f",
   "metadata": {},
   "outputs": [
    {
     "name": "stdin",
     "output_type": "stream",
     "text": [
      "Enter n for Fibonacci sequence generation:  7\n"
     ]
    },
    {
     "name": "stdout",
     "output_type": "stream",
     "text": [
      "0 1 1 2 3 5 8 \n"
     ]
    }
   ],
   "source": [
    "#5fibonacci\n",
    "def fibonacci_generator(n):\n",
    "    a, b = 0, 1\n",
    "    for _ in range(n):\n",
    "        print(a, end=\" \")\n",
    "        a, b = b, a + b\n",
    "    print()\n",
    "\n",
    "n = int(input(\"Enter n for Fibonacci sequence generation: \"))\n",
    "fibonacci_generator(n)"
   ]
  },
  {
   "cell_type": "code",
   "execution_count": 16,
   "id": "ea5b852a-ffba-4860-878b-4beccd8d66e5",
   "metadata": {},
   "outputs": [
    {
     "name": "stdin",
     "output_type": "stream",
     "text": [
      "Enter n for Partition Function:  6\n"
     ]
    },
    {
     "name": "stdout",
     "output_type": "stream",
     "text": [
      "Partition Function of 6 = 11\n"
     ]
    }
   ],
   "source": [
    "#6partition\n",
    "def partition(n, m=None):\n",
    "    if m is None:\n",
    "        m = n\n",
    "    if n == 0:\n",
    "        return 1\n",
    "    if n < 0 or m == 0:\n",
    "        return 0\n",
    "    return partition(n - m, m) + partition(n, m - 1)\n",
    "n = int(input(\"Enter n for Partition Function: \"))\n",
    "print(\"Partition Function of\", n, \"=\",partition(n))"
   ]
  },
  {
   "cell_type": "code",
   "execution_count": 19,
   "id": "5cccd668-7f2a-4a5c-8e44-85df589e2566",
   "metadata": {},
   "outputs": [
    {
     "name": "stdin",
     "output_type": "stream",
     "text": [
      "Enter n for Bell Number:  3\n"
     ]
    },
    {
     "name": "stdout",
     "output_type": "stream",
     "text": [
      "Bell Number= 5\n"
     ]
    }
   ],
   "source": [
    "#7bellnumber\n",
    "def bell_number(n):\n",
    "    bell = [[0 for _ in range(n+1)] for _ in range(n+1)]\n",
    "    bell[0][0] = 1\n",
    "\n",
    "    for i in range(1, n+1):\n",
    "        bell[i][0] = bell[i-1][i-1]\n",
    "\n",
    "        for j in range(1, i+1):\n",
    "            bell[i][j] = bell[i-1][j-1] + bell[i][j-1]\n",
    "\n",
    "    return bell[n][0]\n",
    "\n",
    "n = int(input(\"Enter n for Bell Number: \"))\n",
    "print(\"Bell Number=\",bell_number(n))"
   ]
  },
  {
   "cell_type": "code",
   "execution_count": 21,
   "id": "bb140516-d421-4436-9b30-9c056c468731",
   "metadata": {},
   "outputs": [
    {
     "name": "stdin",
     "output_type": "stream",
     "text": [
      "Enter a number:  43\n"
     ]
    },
    {
     "name": "stdout",
     "output_type": "stream",
     "text": [
      "Reversed number: 34\n"
     ]
    }
   ],
   "source": [
    "#8\n",
    "def reverse_number(n):\n",
    "    rev = 0\n",
    "    while n > 0:\n",
    "        rev = rev * 10 + (n % 10)\n",
    "        n //= 10\n",
    "    return rev\n",
    "n = int(input(\"Enter a number: \"))\n",
    "print(\"Reversed number:\",reverse_number(n))"
   ]
  },
  {
   "cell_type": "code",
   "execution_count": 22,
   "id": "316fc105-8f5a-4090-87e1-f26447635a93",
   "metadata": {},
   "outputs": [
    {
     "name": "stdin",
     "output_type": "stream",
     "text": [
      "Enter n for Octagonal Number:  4\n"
     ]
    },
    {
     "name": "stdout",
     "output_type": "stream",
     "text": [
      "Octagonal Number O(4) = 40\n"
     ]
    }
   ],
   "source": [
    "#9\n",
    "def octagonal_number(n):\n",
    "    return n * (3 * n - 2)\n",
    "n = int(input(\"Enter n for Octagonal Number: \"))\n",
    "print(\"Octagonal Number=\"octagonal_number(n))"
   ]
  },
  {
   "cell_type": "code",
   "execution_count": 24,
   "id": "37ca9fc0-dc8e-4fd3-9fe5-ebc9ba33126e",
   "metadata": {},
   "outputs": [
    {
     "name": "stdin",
     "output_type": "stream",
     "text": [
      "Enter n for Sum of First n Square Numbers:  2\n"
     ]
    },
    {
     "name": "stdout",
     "output_type": "stream",
     "text": [
      "Sum of first 2 square numbers = 5.0\n"
     ]
    }
   ],
   "source": [
    "#10\n",
    "def sum_of_squares(n):\n",
    "    return (n * (n + 1) * (2 * n + 1))/6\n",
    "n = int(input(\"Enter n for Sum of First n Square Numbers: \"))\n",
    "print(\"Sum of first\", n, \"square numbers =\",sum_of_squares(n))"
   ]
  },
  {
   "cell_type": "code",
   "execution_count": null,
   "id": "5d1bae03-805b-408e-bf67-3a5825bb5419",
   "metadata": {},
   "outputs": [],
   "source": []
  }
 ],
 "metadata": {
  "kernelspec": {
   "display_name": "Python 3 (ipykernel)",
   "language": "python",
   "name": "python3"
  },
  "language_info": {
   "codemirror_mode": {
    "name": "ipython",
    "version": 3
   },
   "file_extension": ".py",
   "mimetype": "text/x-python",
   "name": "python",
   "nbconvert_exporter": "python",
   "pygments_lexer": "ipython3",
   "version": "3.13.1"
  }
 },
 "nbformat": 4,
 "nbformat_minor": 5
}
