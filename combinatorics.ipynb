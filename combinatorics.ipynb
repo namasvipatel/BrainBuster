{
 "cells": [
  {
   "cell_type": "code",
   "execution_count": null,
   "id": "8bbc4154-9835-404c-8b5a-9d30bd1f5495",
   "metadata": {},
   "outputs": [],
   "source": [
    "from combinatorics import Combinatorics\n",
    "c = Combinatorics()\n",
    "\n",
    "#Factorial\n",
    "n = int(input(\"Enter a number for factorial: \"))\n",
    "print(\"Factorial:\", c.factorial(n))\n",
    "\n",
    "#Permutations\n",
    "n = int(input(\"Enter n: \"))\n",
    "r = int(input(\"Enter r: \"))\n",
    "print(\"Permutations:\", c.permutations(n, r))\n",
    "\n",
    "#Combinations\n",
    "n = int(input(\"Enter n: \"))\n",
    "r = int(input(\"Enter r: \"))\n",
    "print(\"Combinations:\", c.combinations(n, r))\n",
    "\n",
    "#Pascal's Triangle\n",
    "rows = int(input(\"Enter number of rows: \"))\n",
    "triangle = c.pascal_triangle(rows)\n",
    "for row in triangle:\n",
    "    print(row)\n",
    "\n",
    "#Fibonacci\n",
    "n = int(input(\"Enter length of Fibonacci sequence: \"))\n",
    "print(\"Fibonacci Sequence:\", c.fibonacci(n))\n",
    "\n",
    "#Partition\n",
    "n = int(input(\"Enter a number: \"))\n",
    "print(\"Partition Function:\", c.partition(n))\n",
    "\n",
    "#Bell Number\n",
    "n = int(input(\"Enter a number: \"))\n",
    "print(\"Bell Number:\", c.bell_number(n))\n",
    "\n",
    "#Reverse Number\n",
    "n = int(input(\"Enter a number: \"))\n",
    "print(\"Reversed Number:\", c.reverse_number(n))\n",
    "\n",
    "#Octagonal Number\n",
    "n = int(input(\"Enter n: \"))\n",
    "print(\"Octagonal Number:\", c.octagonal_number(n))\n",
    "\n",
    "#Sum of Squares\n",
    "n = int(input(\"Enter n: \"))\n",
    "print(\"Sum of squares:\", c.sum_of_squares(n))"
   ]
  },
  {
   "cell_type": "code",
   "execution_count": null,
   "id": "853d1140-7291-4b84-b122-e8e7a198a4eb",
   "metadata": {},
   "outputs": [],
   "source": []
  },
  {
   "cell_type": "code",
   "execution_count": null,
   "id": "6ac3282f-fad7-4bf9-88cb-8f756ea80c9f",
   "metadata": {},
   "outputs": [],
   "source": []
  },
  {
   "cell_type": "code",
   "execution_count": null,
   "id": "3c42fa08-e166-46cc-9294-aa9f71249c21",
   "metadata": {},
   "outputs": [],
   "source": []
  }
 ],
 "metadata": {
  "kernelspec": {
   "display_name": "Python 3 (ipykernel)",
   "language": "python",
   "name": "python3"
  },
  "language_info": {
   "codemirror_mode": {
    "name": "ipython",
    "version": 3
   },
   "file_extension": ".py",
   "mimetype": "text/x-python",
   "name": "python",
   "nbconvert_exporter": "python",
   "pygments_lexer": "ipython3",
   "version": "3.13.1"
  }
 },
 "nbformat": 4,
 "nbformat_minor": 5
}
