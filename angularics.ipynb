{
 "cells": [
  {
   "cell_type": "code",
   "execution_count": null,
   "id": "33502b33-bcbd-432a-9da5-1084abd5e496",
   "metadata": {},
   "outputs": [],
   "source": [
    "from angularics import Angularics\n",
    "a = Angularics()\n",
    "\n",
    "# 1. Degrees to Radians\n",
    "deg = float(input(\"Enter angle in degrees to convert to radians: \"))\n",
    "print(\"Radians:\", a.degrees_to_radians(deg))\n",
    "\n",
    "# 2. Radians to Degrees\n",
    "rad = float(input(\"Enter angle in radians to convert to degrees: \"))\n",
    "print(\"Degrees:\", a.radians_to_degrees(rad))\n",
    "\n",
    "# 3. sin(degrees)\n",
    "deg_sin = float(input(\"Enter angle in degrees for sin: \"))\n",
    "print(\"sin({}°):\".format(deg_sin), a.sin_deg(deg_sin))\n",
    "\n",
    "# 4. cos(degrees)\n",
    "deg_cos = float(input(\"Enter angle in degrees for cos: \"))\n",
    "print(\"cos({}°):\".format(deg_cos), a.cos_deg(deg_cos))\n",
    "\n",
    "# 5. tan(degrees)\n",
    "deg_tan = float(input(\"Enter angle in degrees for tan: \"))\n",
    "print(\"tan({}°):\".format(deg_tan), a.tan_deg(deg_tan))\n",
    "\n",
    "# 6. sin(radians)\n",
    "rad_sin = float(input(\"Enter angle in radians for sin: \"))\n",
    "print(\"sin({} rad):\".format(rad_sin), a.sin(rad_sin))\n",
    "\n",
    "# 7. cos(radians)\n",
    "rad_cos = float(input(\"Enter angle in radians for cos: \"))\n",
    "print(\"cos({} rad):\".format(rad_cos), a.cos(rad_cos))\n",
    "\n",
    "# 8. tan(radians)\n",
    "rad_tan = float(input(\"Enter angle in radians for tan: \"))\n",
    "print(\"tan({} rad):\".format(rad_tan), a.tan(rad_tan))\n",
    "\n",
    "# 9. cot(radians)\n",
    "rad_cot = float(input(\"Enter angle in radians for cot: \"))\n",
    "print(\"cot({} rad):\".format(rad_cot), a.cot(rad_cot))\n",
    "\n",
    "# 10. Angle between two vectors\n",
    "print(\"Enter coordinates of two 2D vectors:\")\n",
    "x1 = float(input(\"x1: \"))\n",
    "y1 = float(input(\"y1: \"))\n",
    "x2 = float(input(\"x2: \"))\n",
    "y2 = float(input(\"y2: \"))\n",
    "print(\"Angle between vectors:\", a.angle_between_vectors(x1, y1, x2, y2))\n"
   ]
  },
  {
   "cell_type": "code",
   "execution_count": null,
   "id": "37d59ac0-fba8-42fe-b4c4-7dc38d1298e4",
   "metadata": {},
   "outputs": [],
   "source": []
  }
 ],
 "metadata": {
  "kernelspec": {
   "display_name": "Python 3 (ipykernel)",
   "language": "python",
   "name": "python3"
  },
  "language_info": {
   "codemirror_mode": {
    "name": "ipython",
    "version": 3
   },
   "file_extension": ".py",
   "mimetype": "text/x-python",
   "name": "python",
   "nbconvert_exporter": "python",
   "pygments_lexer": "ipython3",
   "version": "3.13.1"
  }
 },
 "nbformat": 4,
 "nbformat_minor": 5
}
