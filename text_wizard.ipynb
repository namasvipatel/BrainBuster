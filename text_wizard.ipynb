{
 "cells": [
  {
   "cell_type": "code",
   "execution_count": null,
   "id": "763d3bd6-2d48-45f8-b577-ade19076fa9e",
   "metadata": {},
   "outputs": [
    {
     "name": "stdin",
     "output_type": "stream",
     "text": [
      "Enter a sentence or paragraph:  i am here\n"
     ]
    },
    {
     "name": "stdout",
     "output_type": "stream",
     "text": [
      "\n",
      "Original Text: i am here\n",
      "Word Count: 3\n",
      "Character Count: 9\n",
      "Unique Words: {'am', 'here', 'i'}\n",
      "Reversed Text: ereh ma i\n",
      "Uppercase: I AM HERE\n",
      "Lowercase: i am here\n",
      "Title Case: I Am Here\n",
      "Word Frequencies: {'am': 1, 'here': 1, 'i': 1}\n",
      "Average Word Length: 2.33\n"
     ]
    }
   ],
   "source": [
    "# File: example_usage.ipynb\n",
    "\n",
    "from wizard import text_wizard\n",
    "t= text_wizard\n",
    "\n",
    "text = input(\"Enter a sentence or paragraph: \")\n",
    "\n",
    "# Show original text\n",
    "print(\"\\nOriginal Text:\", text)\n",
    "\n",
    "# word_count\n",
    "print(\"Word Count:\",t.word_count(text))\n",
    "\n",
    "# char_count\n",
    "print(\"Character Count:\",t.char_count(text))\n",
    "\n",
    "# unique_words\n",
    "print(\"Unique Words:\",t.unique_words(text))\n",
    "\n",
    "# reverse_text\n",
    "print(\"Reversed Text:\",t.reverse_text(text))\n",
    "\n",
    "# to_upper\n",
    "print(\"Uppercase:\",t.to_upper(text))\n",
    "\n",
    "# to_lower\n",
    "print(\"Lowercase:\",t.to_lower(text))\n",
    "\n",
    "# title_case\n",
    "print(\"Title Case:\",t.title_case(text))\n",
    "\n",
    "# word_frequency\n",
    "print(\"Word Frequencies:\",t.word_frequency(text))\n",
    "\n",
    "# average_word_length\n",
    "print(\"Average Word Length:\",t.average_word_length(text))\n",
    "\n",
    "# replace_word\n",
    "old = input(\"\\nEnter a word to replace: \")\n",
    "new = input(\"Enter the new word: \")\n",
    "print(\"Replaced Text:\",t.replace_word(text, old, new))\n"
   ]
  },
  {
   "cell_type": "code",
   "execution_count": null,
   "id": "dff57c4e-f6cc-4be1-9c23-1602e36542d2",
   "metadata": {},
   "outputs": [],
   "source": []
  }
 ],
 "metadata": {
  "kernelspec": {
   "display_name": "Python 3 (ipykernel)",
   "language": "python",
   "name": "python3"
  },
  "language_info": {
   "codemirror_mode": {
    "name": "ipython",
    "version": 3
   },
   "file_extension": ".py",
   "mimetype": "text/x-python",
   "name": "python",
   "nbconvert_exporter": "python",
   "pygments_lexer": "ipython3",
   "version": "3.13.1"
  }
 },
 "nbformat": 4,
 "nbformat_minor": 5
}
