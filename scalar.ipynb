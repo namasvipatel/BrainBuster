{
 "cells": [
  {
   "cell_type": "code",
   "execution_count": null,
   "id": "46dce24d-63df-4f38-97fe-fe17459cd6a1",
   "metadata": {},
   "outputs": [],
   "source": [
    "# Step 1: Import the class\n",
    "from scalar import scalar\n",
    "s = scalar()\n",
    "\n",
    "# Add\n",
    "a = float(input(\"Enter first number for addition: \"))\n",
    "b = float(input(\"Enter second number: \"))\n",
    "print(\"Result:\", s.add(a, b))\n",
    "\n",
    "# Subtract\n",
    "a = float(input(\"Enter first number for subtraction: \"))\n",
    "b = float(input(\"Enter second number: \"))\n",
    "print(\"Result:\", s.subtract(a, b))\n",
    "\n",
    "# Multiply\n",
    "a = float(input(\"Enter first number for multiplication: \"))\n",
    "b = float(input(\"Enter second number: \"))\n",
    "print(\"Result:\", s.multiply(a, b))\n",
    "\n",
    "# Divide\n",
    "a = float(input(\"Enter dividend: \"))\n",
    "b = float(input(\"Enter divisor: \"))\n",
    "try:\n",
    "    print(\"Result:\", s.divide(a, b))\n",
    "except ValueError as e:\n",
    "    print(e)\n",
    "\n",
    "# Power\n",
    "a = float(input(\"Enter base: \"))\n",
    "b = float(input(\"Enter exponent: \"))\n",
    "print(\"Result:\", s.power(a, b))\n",
    "\n",
    "# Modulus\n",
    "a = int(input(\"Enter number for modulus: \"))\n",
    "b = int(input(\"Enter modulus base: \"))\n",
    "print(\"Result:\", s.modulus(a, b))\n",
    "\n",
    "# Negate\n",
    "a = float(input(\"Enter number to negate: \"))\n",
    "print(\"Negated:\", s.negate(a))\n",
    "\n",
    "# Absolute\n",
    "a = float(input(\"Enter number for absolute value: \"))\n",
    "print(\"Absolute:\", s.absolute(a))\n",
    "\n",
    "# Is Positive\n",
    "a = float(input(\"Enter number to check if positive: \"))\n",
    "print(\"Is Positive?\", s.is_positive(a))\n",
    "\n",
    "# Is Zero\n",
    "a = float(input(\"Enter number to check if zero: \"))\n",
    "print(\"Is Zero?\", s.is_zero(a))\n"
   ]
  },
  {
   "cell_type": "code",
   "execution_count": null,
   "id": "6879cb08-da30-4014-906a-5f0ce3d06ff0",
   "metadata": {},
   "outputs": [],
   "source": []
  }
 ],
 "metadata": {
  "kernelspec": {
   "display_name": "Python 3 (ipykernel)",
   "language": "python",
   "name": "python3"
  },
  "language_info": {
   "codemirror_mode": {
    "name": "ipython",
    "version": 3
   },
   "file_extension": ".py",
   "mimetype": "text/x-python",
   "name": "python",
   "nbconvert_exporter": "python",
   "pygments_lexer": "ipython3",
   "version": "3.13.1"
  }
 },
 "nbformat": 4,
 "nbformat_minor": 5
}
